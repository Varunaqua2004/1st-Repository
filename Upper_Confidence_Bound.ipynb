{
  "nbformat": 4,
  "nbformat_minor": 0,
  "metadata": {
    "colab": {
      "provenance": [],
      "include_colab_link": true
    },
    "kernelspec": {
      "name": "python3",
      "display_name": "Python 3"
    }
  },
  "cells": [
    {
      "cell_type": "markdown",
      "metadata": {
        "id": "view-in-github",
        "colab_type": "text"
      },
      "source": [
        "<a href=\"https://colab.research.google.com/github/Varunaqua2004/1st-Repository/blob/main/Upper_Confidence_Bound.ipynb\" target=\"_parent\"><img src=\"https://colab.research.google.com/assets/colab-badge.svg\" alt=\"Open In Colab\"/></a>"
      ]
    },
    {
      "cell_type": "markdown",
      "metadata": {
        "id": "QJdrJJQUv3-k"
      },
      "source": [
        "# Upper Confidence Bound (UCB)"
      ]
    },
    {
      "cell_type": "markdown",
      "metadata": {
        "id": "2XCjepjJwEv-"
      },
      "source": [
        "## Importing the libraries"
      ]
    },
    {
      "cell_type": "code",
      "metadata": {
        "id": "l_mBkG3YwNTt"
      },
      "source": [
        "import numpy as np\n",
        "import matplotlib.pyplot as plt\n",
        "import pandas as pd"
      ],
      "execution_count": 1,
      "outputs": []
    },
    {
      "cell_type": "markdown",
      "metadata": {
        "id": "npqlXjaNwYTv"
      },
      "source": [
        "## Importing the dataset"
      ]
    },
    {
      "cell_type": "code",
      "metadata": {
        "id": "HMJfUVLVwcFc"
      },
      "source": [
        "dataset = pd.read_csv('Ads_CTR_Optimisation.csv')"
      ],
      "execution_count": 2,
      "outputs": []
    },
    {
      "cell_type": "code",
      "source": [
        "print(dataset)"
      ],
      "metadata": {
        "colab": {
          "base_uri": "https://localhost:8080/"
        },
        "id": "qfW-_vkODHGD",
        "outputId": "64fd5654-955e-44fc-e528-11c60a9fb6c0"
      },
      "execution_count": 3,
      "outputs": [
        {
          "output_type": "stream",
          "name": "stdout",
          "text": [
            "      Ad 1  Ad 2  Ad 3  Ad 4  Ad 5  Ad 6  Ad 7  Ad 8  Ad 9  Ad 10\n",
            "0        1     0     0     0     1     0     0     0     1      0\n",
            "1        0     0     0     0     0     0     0     0     1      0\n",
            "2        0     0     0     0     0     0     0     0     0      0\n",
            "3        0     1     0     0     0     0     0     1     0      0\n",
            "4        0     0     0     0     0     0     0     0     0      0\n",
            "...    ...   ...   ...   ...   ...   ...   ...   ...   ...    ...\n",
            "9995     0     0     1     0     0     0     0     1     0      0\n",
            "9996     0     0     0     0     0     0     0     0     0      0\n",
            "9997     0     0     0     0     0     0     0     0     0      0\n",
            "9998     1     0     0     0     0     0     0     1     0      0\n",
            "9999     0     1     0     0     0     0     0     0     0      0\n",
            "\n",
            "[10000 rows x 10 columns]\n"
          ]
        }
      ]
    },
    {
      "cell_type": "markdown",
      "metadata": {
        "id": "PaSbots_wfoB"
      },
      "source": [
        "## Implementing UCB"
      ]
    },
    {
      "cell_type": "code",
      "source": [
        "# Running the UCB Algorithm\n",
        "import math\n",
        "N = 2000 # total no. of users\n",
        "d = 10 # no of ads\n",
        "ads_selected = []\n",
        "numbers_of_selections = [0] * d # no. of ads selected\n",
        "sums_of_rewards = [0] * d # rewards upto n\n",
        "total_reward = 0\n",
        "for n in range(0, N):\n",
        "  ad = 0\n",
        "  max_upper_bound = 0\n",
        "  for i in range(0, d):\n",
        "    if (numbers_of_selections[i] > 0):\n",
        "      # Step-2: -\n",
        "      average_reward = (sums_of_rewards[i]/numbers_of_selections[i])\n",
        "      delta_i = math.sqrt((3/2*math.log(n + 1))/numbers_of_selections[i])\n",
        "      upper_bound = average_reward + delta_i\n",
        "    else:\n",
        "      upper_bound = 1e400\n",
        "    if (upper_bound > max_upper_bound):\n",
        "      max_upper_bound = upper_bound\n",
        "      ad = i\n",
        "  ads_selected.append(ad)\n",
        "  numbers_of_selections[ad] += 1\n",
        "  reward = dataset.values[n, ad] # reward\n",
        "  sums_of_rewards[ad] += reward\n",
        "  total_reward += reward"
      ],
      "metadata": {
        "id": "5mtmvOGJAxki"
      },
      "execution_count": 4,
      "outputs": []
    },
    {
      "cell_type": "markdown",
      "metadata": {
        "id": "AXftWcjDwsYj"
      },
      "source": [
        "## Visualising the results"
      ]
    },
    {
      "cell_type": "code",
      "source": [
        "# Plotting a Histogram to find the most optimal ad.\n",
        "plt.hist(ads_selected)\n",
        "plt.title('Ads Selection')\n",
        "plt.xlabel('Ads')\n",
        "plt.ylabel('Numbers of times each ad was selected')\n",
        "plt.show()"
      ],
      "metadata": {
        "colab": {
          "base_uri": "https://localhost:8080/",
          "height": 472
        },
        "id": "uLY-dCffAy0f",
        "outputId": "40b2323a-20b6-4e1c-aaef-79d161b020db"
      },
      "execution_count": 5,
      "outputs": [
        {
          "output_type": "display_data",
          "data": {
            "text/plain": [
              "<Figure size 640x480 with 1 Axes>"
            ],
            "image/png": "[encoded data removed]"
          },
          "metadata": {}
        }
      ]
    }
  ]
}